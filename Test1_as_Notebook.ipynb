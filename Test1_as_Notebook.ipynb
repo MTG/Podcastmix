{
  "nbformat": 4,
  "nbformat_minor": 0,
  "metadata": {
    "colab": {
      "name": "Test1 as Notebook.ipynb",
      "provenance": [],
      "collapsed_sections": [],
      "toc_visible": true,
      "authorship_tag": "ABX9TyOHijK8PeTiHJtaDUZZgUsn",
      "include_colab_link": true
    },
    "kernelspec": {
      "name": "python3",
      "display_name": "Python 3"
    },
    "widgets": {
      "application/vnd.jupyter.widget-state+json": {
        "a037e748d7e649d3b8dbb36a1b845049": {
          "model_module": "@jupyter-widgets/controls",
          "model_name": "HBoxModel",
          "state": {
            "_view_name": "HBoxView",
            "_dom_classes": [],
            "_model_name": "HBoxModel",
            "_view_module": "@jupyter-widgets/controls",
            "_model_module_version": "1.5.0",
            "_view_count": null,
            "_view_module_version": "1.5.0",
            "box_style": "",
            "layout": "IPY_MODEL_a9d691f3c2f3461896edd671e1e365e7",
            "_model_module": "@jupyter-widgets/controls",
            "children": [
              "IPY_MODEL_9d11bcfea34c4ac59b5d0a154a450297",
              "IPY_MODEL_896c6143b2f242a7b0f93ca437d6bb6d"
            ]
          }
        },
        "a9d691f3c2f3461896edd671e1e365e7": {
          "model_module": "@jupyter-widgets/base",
          "model_name": "LayoutModel",
          "state": {
            "_view_name": "LayoutView",
            "grid_template_rows": null,
            "right": null,
            "justify_content": null,
            "_view_module": "@jupyter-widgets/base",
            "overflow": null,
            "_model_module_version": "1.2.0",
            "_view_count": null,
            "flex_flow": null,
            "width": null,
            "min_width": null,
            "border": null,
            "align_items": null,
            "bottom": null,
            "_model_module": "@jupyter-widgets/base",
            "top": null,
            "grid_column": null,
            "overflow_y": null,
            "overflow_x": null,
            "grid_auto_flow": null,
            "grid_area": null,
            "grid_template_columns": null,
            "flex": null,
            "_model_name": "LayoutModel",
            "justify_items": null,
            "grid_row": null,
            "max_height": null,
            "align_content": null,
            "visibility": null,
            "align_self": null,
            "height": null,
            "min_height": null,
            "padding": null,
            "grid_auto_rows": null,
            "grid_gap": null,
            "max_width": null,
            "order": null,
            "_view_module_version": "1.2.0",
            "grid_template_areas": null,
            "object_position": null,
            "object_fit": null,
            "grid_auto_columns": null,
            "margin": null,
            "display": null,
            "left": null
          }
        },
        "9d11bcfea34c4ac59b5d0a154a450297": {
          "model_module": "@jupyter-widgets/controls",
          "model_name": "FloatProgressModel",
          "state": {
            "_view_name": "ProgressView",
            "style": "IPY_MODEL_938ba9746e88446189c443725fd2daed",
            "_dom_classes": [],
            "description": "100%",
            "_model_name": "FloatProgressModel",
            "bar_style": "success",
            "max": 640547371,
            "_view_module": "@jupyter-widgets/controls",
            "_model_module_version": "1.5.0",
            "value": 640547371,
            "_view_count": null,
            "_view_module_version": "1.5.0",
            "orientation": "horizontal",
            "min": 0,
            "description_tooltip": null,
            "_model_module": "@jupyter-widgets/controls",
            "layout": "IPY_MODEL_61385b281666452a83a34cdedb1c3677"
          }
        },
        "896c6143b2f242a7b0f93ca437d6bb6d": {
          "model_module": "@jupyter-widgets/controls",
          "model_name": "HTMLModel",
          "state": {
            "_view_name": "HTMLView",
            "style": "IPY_MODEL_980819e472234028af91396500e37a2f",
            "_dom_classes": [],
            "description": "",
            "_model_name": "HTMLModel",
            "placeholder": "​",
            "_view_module": "@jupyter-widgets/controls",
            "_model_module_version": "1.5.0",
            "value": " 611M/611M [01:18&lt;00:00, 8.13MB/s]",
            "_view_count": null,
            "_view_module_version": "1.5.0",
            "description_tooltip": null,
            "_model_module": "@jupyter-widgets/controls",
            "layout": "IPY_MODEL_2f90087b666b41af81b980794c5fab81"
          }
        },
        "938ba9746e88446189c443725fd2daed": {
          "model_module": "@jupyter-widgets/controls",
          "model_name": "ProgressStyleModel",
          "state": {
            "_view_name": "StyleView",
            "_model_name": "ProgressStyleModel",
            "description_width": "initial",
            "_view_module": "@jupyter-widgets/base",
            "_model_module_version": "1.5.0",
            "_view_count": null,
            "_view_module_version": "1.2.0",
            "bar_color": null,
            "_model_module": "@jupyter-widgets/controls"
          }
        },
        "61385b281666452a83a34cdedb1c3677": {
          "model_module": "@jupyter-widgets/base",
          "model_name": "LayoutModel",
          "state": {
            "_view_name": "LayoutView",
            "grid_template_rows": null,
            "right": null,
            "justify_content": null,
            "_view_module": "@jupyter-widgets/base",
            "overflow": null,
            "_model_module_version": "1.2.0",
            "_view_count": null,
            "flex_flow": null,
            "width": null,
            "min_width": null,
            "border": null,
            "align_items": null,
            "bottom": null,
            "_model_module": "@jupyter-widgets/base",
            "top": null,
            "grid_column": null,
            "overflow_y": null,
            "overflow_x": null,
            "grid_auto_flow": null,
            "grid_area": null,
            "grid_template_columns": null,
            "flex": null,
            "_model_name": "LayoutModel",
            "justify_items": null,
            "grid_row": null,
            "max_height": null,
            "align_content": null,
            "visibility": null,
            "align_self": null,
            "height": null,
            "min_height": null,
            "padding": null,
            "grid_auto_rows": null,
            "grid_gap": null,
            "max_width": null,
            "order": null,
            "_view_module_version": "1.2.0",
            "grid_template_areas": null,
            "object_position": null,
            "object_fit": null,
            "grid_auto_columns": null,
            "margin": null,
            "display": null,
            "left": null
          }
        },
        "980819e472234028af91396500e37a2f": {
          "model_module": "@jupyter-widgets/controls",
          "model_name": "DescriptionStyleModel",
          "state": {
            "_view_name": "StyleView",
            "_model_name": "DescriptionStyleModel",
            "description_width": "",
            "_view_module": "@jupyter-widgets/base",
            "_model_module_version": "1.5.0",
            "_view_count": null,
            "_view_module_version": "1.2.0",
            "_model_module": "@jupyter-widgets/controls"
          }
        },
        "2f90087b666b41af81b980794c5fab81": {
          "model_module": "@jupyter-widgets/base",
          "model_name": "LayoutModel",
          "state": {
            "_view_name": "LayoutView",
            "grid_template_rows": null,
            "right": null,
            "justify_content": null,
            "_view_module": "@jupyter-widgets/base",
            "overflow": null,
            "_model_module_version": "1.2.0",
            "_view_count": null,
            "flex_flow": null,
            "width": null,
            "min_width": null,
            "border": null,
            "align_items": null,
            "bottom": null,
            "_model_module": "@jupyter-widgets/base",
            "top": null,
            "grid_column": null,
            "overflow_y": null,
            "overflow_x": null,
            "grid_auto_flow": null,
            "grid_area": null,
            "grid_template_columns": null,
            "flex": null,
            "_model_name": "LayoutModel",
            "justify_items": null,
            "grid_row": null,
            "max_height": null,
            "align_content": null,
            "visibility": null,
            "align_self": null,
            "height": null,
            "min_height": null,
            "padding": null,
            "grid_auto_rows": null,
            "grid_gap": null,
            "max_width": null,
            "order": null,
            "_view_module_version": "1.2.0",
            "grid_template_areas": null,
            "object_position": null,
            "object_fit": null,
            "grid_auto_columns": null,
            "margin": null,
            "display": null,
            "left": null
          }
        },
        "1da8fc09b02f478bb08f98857c785bd0": {
          "model_module": "@jupyter-widgets/controls",
          "model_name": "HBoxModel",
          "state": {
            "_view_name": "HBoxView",
            "_dom_classes": [],
            "_model_name": "HBoxModel",
            "_view_module": "@jupyter-widgets/controls",
            "_model_module_version": "1.5.0",
            "_view_count": null,
            "_view_module_version": "1.5.0",
            "box_style": "",
            "layout": "IPY_MODEL_a95d1c76f8484d05b2958fecf69ee861",
            "_model_module": "@jupyter-widgets/controls",
            "children": [
              "IPY_MODEL_84d3b161fc7242efade0485f762865fc",
              "IPY_MODEL_5a0af97c31674c5d874e3a0c10bf7767"
            ]
          }
        },
        "a95d1c76f8484d05b2958fecf69ee861": {
          "model_module": "@jupyter-widgets/base",
          "model_name": "LayoutModel",
          "state": {
            "_view_name": "LayoutView",
            "grid_template_rows": null,
            "right": null,
            "justify_content": null,
            "_view_module": "@jupyter-widgets/base",
            "overflow": null,
            "_model_module_version": "1.2.0",
            "_view_count": null,
            "flex_flow": "row wrap",
            "width": "100%",
            "min_width": null,
            "border": null,
            "align_items": null,
            "bottom": null,
            "_model_module": "@jupyter-widgets/base",
            "top": null,
            "grid_column": null,
            "overflow_y": null,
            "overflow_x": null,
            "grid_auto_flow": null,
            "grid_area": null,
            "grid_template_columns": null,
            "flex": null,
            "_model_name": "LayoutModel",
            "justify_items": null,
            "grid_row": null,
            "max_height": null,
            "align_content": null,
            "visibility": null,
            "align_self": null,
            "height": null,
            "min_height": null,
            "padding": null,
            "grid_auto_rows": null,
            "grid_gap": null,
            "max_width": null,
            "order": null,
            "_view_module_version": "1.2.0",
            "grid_template_areas": null,
            "object_position": null,
            "object_fit": null,
            "grid_auto_columns": null,
            "margin": null,
            "display": "inline-flex",
            "left": null
          }
        },
        "84d3b161fc7242efade0485f762865fc": {
          "model_module": "@jupyter-widgets/controls",
          "model_name": "FloatProgressModel",
          "state": {
            "_view_name": "ProgressView",
            "style": "IPY_MODEL_2933ccd786734b7cb91ba9e32e451bbb",
            "_dom_classes": [],
            "description": "Validation sanity check: 100%",
            "_model_name": "FloatProgressModel",
            "bar_style": "info",
            "max": 1,
            "_view_module": "@jupyter-widgets/controls",
            "_model_module_version": "1.5.0",
            "value": 1,
            "_view_count": null,
            "_view_module_version": "1.5.0",
            "orientation": "horizontal",
            "min": 0,
            "description_tooltip": null,
            "_model_module": "@jupyter-widgets/controls",
            "layout": "IPY_MODEL_bb5961edf42c470ea26d5f07240fa1e8"
          }
        },
        "5a0af97c31674c5d874e3a0c10bf7767": {
          "model_module": "@jupyter-widgets/controls",
          "model_name": "HTMLModel",
          "state": {
            "_view_name": "HTMLView",
            "style": "IPY_MODEL_47572039fb2b4af5b20ab8e312f1b40f",
            "_dom_classes": [],
            "description": "",
            "_model_name": "HTMLModel",
            "placeholder": "​",
            "_view_module": "@jupyter-widgets/controls",
            "_model_module_version": "1.5.0",
            "value": " 1/1.0 [00:00&lt;00:00,  4.77it/s]",
            "_view_count": null,
            "_view_module_version": "1.5.0",
            "description_tooltip": null,
            "_model_module": "@jupyter-widgets/controls",
            "layout": "IPY_MODEL_d832308369eb4a45a16df020eb9d2edc"
          }
        },
        "2933ccd786734b7cb91ba9e32e451bbb": {
          "model_module": "@jupyter-widgets/controls",
          "model_name": "ProgressStyleModel",
          "state": {
            "_view_name": "StyleView",
            "_model_name": "ProgressStyleModel",
            "description_width": "initial",
            "_view_module": "@jupyter-widgets/base",
            "_model_module_version": "1.5.0",
            "_view_count": null,
            "_view_module_version": "1.2.0",
            "bar_color": null,
            "_model_module": "@jupyter-widgets/controls"
          }
        },
        "bb5961edf42c470ea26d5f07240fa1e8": {
          "model_module": "@jupyter-widgets/base",
          "model_name": "LayoutModel",
          "state": {
            "_view_name": "LayoutView",
            "grid_template_rows": null,
            "right": null,
            "justify_content": null,
            "_view_module": "@jupyter-widgets/base",
            "overflow": null,
            "_model_module_version": "1.2.0",
            "_view_count": null,
            "flex_flow": null,
            "width": null,
            "min_width": null,
            "border": null,
            "align_items": null,
            "bottom": null,
            "_model_module": "@jupyter-widgets/base",
            "top": null,
            "grid_column": null,
            "overflow_y": null,
            "overflow_x": null,
            "grid_auto_flow": null,
            "grid_area": null,
            "grid_template_columns": null,
            "flex": "2",
            "_model_name": "LayoutModel",
            "justify_items": null,
            "grid_row": null,
            "max_height": null,
            "align_content": null,
            "visibility": null,
            "align_self": null,
            "height": null,
            "min_height": null,
            "padding": null,
            "grid_auto_rows": null,
            "grid_gap": null,
            "max_width": null,
            "order": null,
            "_view_module_version": "1.2.0",
            "grid_template_areas": null,
            "object_position": null,
            "object_fit": null,
            "grid_auto_columns": null,
            "margin": null,
            "display": null,
            "left": null
          }
        },
        "47572039fb2b4af5b20ab8e312f1b40f": {
          "model_module": "@jupyter-widgets/controls",
          "model_name": "DescriptionStyleModel",
          "state": {
            "_view_name": "StyleView",
            "_model_name": "DescriptionStyleModel",
            "description_width": "",
            "_view_module": "@jupyter-widgets/base",
            "_model_module_version": "1.5.0",
            "_view_count": null,
            "_view_module_version": "1.2.0",
            "_model_module": "@jupyter-widgets/controls"
          }
        },
        "d832308369eb4a45a16df020eb9d2edc": {
          "model_module": "@jupyter-widgets/base",
          "model_name": "LayoutModel",
          "state": {
            "_view_name": "LayoutView",
            "grid_template_rows": null,
            "right": null,
            "justify_content": null,
            "_view_module": "@jupyter-widgets/base",
            "overflow": null,
            "_model_module_version": "1.2.0",
            "_view_count": null,
            "flex_flow": null,
            "width": null,
            "min_width": null,
            "border": null,
            "align_items": null,
            "bottom": null,
            "_model_module": "@jupyter-widgets/base",
            "top": null,
            "grid_column": null,
            "overflow_y": null,
            "overflow_x": null,
            "grid_auto_flow": null,
            "grid_area": null,
            "grid_template_columns": null,
            "flex": null,
            "_model_name": "LayoutModel",
            "justify_items": null,
            "grid_row": null,
            "max_height": null,
            "align_content": null,
            "visibility": null,
            "align_self": null,
            "height": null,
            "min_height": null,
            "padding": null,
            "grid_auto_rows": null,
            "grid_gap": null,
            "max_width": null,
            "order": null,
            "_view_module_version": "1.2.0",
            "grid_template_areas": null,
            "object_position": null,
            "object_fit": null,
            "grid_auto_columns": null,
            "margin": null,
            "display": null,
            "left": null
          }
        },
        "d7afb2bbfacd453b8dbcae9899fa07f4": {
          "model_module": "@jupyter-widgets/controls",
          "model_name": "HBoxModel",
          "state": {
            "_view_name": "HBoxView",
            "_dom_classes": [],
            "_model_name": "HBoxModel",
            "_view_module": "@jupyter-widgets/controls",
            "_model_module_version": "1.5.0",
            "_view_count": null,
            "_view_module_version": "1.5.0",
            "box_style": "",
            "layout": "IPY_MODEL_a170ecc5a0134d65ae73b37f71086197",
            "_model_module": "@jupyter-widgets/controls",
            "children": [
              "IPY_MODEL_dda3a5290441484e865ae7c06d73bec8",
              "IPY_MODEL_238672347ba64c6d82d2290d89c59a8b"
            ]
          }
        },
        "a170ecc5a0134d65ae73b37f71086197": {
          "model_module": "@jupyter-widgets/base",
          "model_name": "LayoutModel",
          "state": {
            "_view_name": "LayoutView",
            "grid_template_rows": null,
            "right": null,
            "justify_content": null,
            "_view_module": "@jupyter-widgets/base",
            "overflow": null,
            "_model_module_version": "1.2.0",
            "_view_count": null,
            "flex_flow": "row wrap",
            "width": "100%",
            "min_width": null,
            "border": null,
            "align_items": null,
            "bottom": null,
            "_model_module": "@jupyter-widgets/base",
            "top": null,
            "grid_column": null,
            "overflow_y": null,
            "overflow_x": null,
            "grid_auto_flow": null,
            "grid_area": null,
            "grid_template_columns": null,
            "flex": null,
            "_model_name": "LayoutModel",
            "justify_items": null,
            "grid_row": null,
            "max_height": null,
            "align_content": null,
            "visibility": null,
            "align_self": null,
            "height": null,
            "min_height": null,
            "padding": null,
            "grid_auto_rows": null,
            "grid_gap": null,
            "max_width": null,
            "order": null,
            "_view_module_version": "1.2.0",
            "grid_template_areas": null,
            "object_position": null,
            "object_fit": null,
            "grid_auto_columns": null,
            "margin": null,
            "display": "inline-flex",
            "left": null
          }
        },
        "dda3a5290441484e865ae7c06d73bec8": {
          "model_module": "@jupyter-widgets/controls",
          "model_name": "FloatProgressModel",
          "state": {
            "_view_name": "ProgressView",
            "style": "IPY_MODEL_fa37bf46fb6c4cb895955830b47ad04a",
            "_dom_classes": [],
            "description": "Epoch 0: 100%",
            "_model_name": "FloatProgressModel",
            "bar_style": "success",
            "max": 125,
            "_view_module": "@jupyter-widgets/controls",
            "_model_module_version": "1.5.0",
            "value": 125,
            "_view_count": null,
            "_view_module_version": "1.5.0",
            "orientation": "horizontal",
            "min": 0,
            "description_tooltip": null,
            "_model_module": "@jupyter-widgets/controls",
            "layout": "IPY_MODEL_a665e792c5b54faeb0b20f3942e4470e"
          }
        },
        "238672347ba64c6d82d2290d89c59a8b": {
          "model_module": "@jupyter-widgets/controls",
          "model_name": "HTMLModel",
          "state": {
            "_view_name": "HTMLView",
            "style": "IPY_MODEL_8d4b6dc612634766abd438516f2e959e",
            "_dom_classes": [],
            "description": "",
            "_model_name": "HTMLModel",
            "placeholder": "​",
            "_view_module": "@jupyter-widgets/controls",
            "_model_module_version": "1.5.0",
            "value": " 125/125 [00:44&lt;00:00,  2.79it/s, loss=-0.033, v_num=1, val_loss=-.474]",
            "_view_count": null,
            "_view_module_version": "1.5.0",
            "description_tooltip": null,
            "_model_module": "@jupyter-widgets/controls",
            "layout": "IPY_MODEL_031be6fe6d4d442eb08d95b72c3e8c3d"
          }
        },
        "fa37bf46fb6c4cb895955830b47ad04a": {
          "model_module": "@jupyter-widgets/controls",
          "model_name": "ProgressStyleModel",
          "state": {
            "_view_name": "StyleView",
            "_model_name": "ProgressStyleModel",
            "description_width": "initial",
            "_view_module": "@jupyter-widgets/base",
            "_model_module_version": "1.5.0",
            "_view_count": null,
            "_view_module_version": "1.2.0",
            "bar_color": null,
            "_model_module": "@jupyter-widgets/controls"
          }
        },
        "a665e792c5b54faeb0b20f3942e4470e": {
          "model_module": "@jupyter-widgets/base",
          "model_name": "LayoutModel",
          "state": {
            "_view_name": "LayoutView",
            "grid_template_rows": null,
            "right": null,
            "justify_content": null,
            "_view_module": "@jupyter-widgets/base",
            "overflow": null,
            "_model_module_version": "1.2.0",
            "_view_count": null,
            "flex_flow": null,
            "width": null,
            "min_width": null,
            "border": null,
            "align_items": null,
            "bottom": null,
            "_model_module": "@jupyter-widgets/base",
            "top": null,
            "grid_column": null,
            "overflow_y": null,
            "overflow_x": null,
            "grid_auto_flow": null,
            "grid_area": null,
            "grid_template_columns": null,
            "flex": "2",
            "_model_name": "LayoutModel",
            "justify_items": null,
            "grid_row": null,
            "max_height": null,
            "align_content": null,
            "visibility": null,
            "align_self": null,
            "height": null,
            "min_height": null,
            "padding": null,
            "grid_auto_rows": null,
            "grid_gap": null,
            "max_width": null,
            "order": null,
            "_view_module_version": "1.2.0",
            "grid_template_areas": null,
            "object_position": null,
            "object_fit": null,
            "grid_auto_columns": null,
            "margin": null,
            "display": null,
            "left": null
          }
        },
        "8d4b6dc612634766abd438516f2e959e": {
          "model_module": "@jupyter-widgets/controls",
          "model_name": "DescriptionStyleModel",
          "state": {
            "_view_name": "StyleView",
            "_model_name": "DescriptionStyleModel",
            "description_width": "",
            "_view_module": "@jupyter-widgets/base",
            "_model_module_version": "1.5.0",
            "_view_count": null,
            "_view_module_version": "1.2.0",
            "_model_module": "@jupyter-widgets/controls"
          }
        },
        "031be6fe6d4d442eb08d95b72c3e8c3d": {
          "model_module": "@jupyter-widgets/base",
          "model_name": "LayoutModel",
          "state": {
            "_view_name": "LayoutView",
            "grid_template_rows": null,
            "right": null,
            "justify_content": null,
            "_view_module": "@jupyter-widgets/base",
            "overflow": null,
            "_model_module_version": "1.2.0",
            "_view_count": null,
            "flex_flow": null,
            "width": null,
            "min_width": null,
            "border": null,
            "align_items": null,
            "bottom": null,
            "_model_module": "@jupyter-widgets/base",
            "top": null,
            "grid_column": null,
            "overflow_y": null,
            "overflow_x": null,
            "grid_auto_flow": null,
            "grid_area": null,
            "grid_template_columns": null,
            "flex": null,
            "_model_name": "LayoutModel",
            "justify_items": null,
            "grid_row": null,
            "max_height": null,
            "align_content": null,
            "visibility": null,
            "align_self": null,
            "height": null,
            "min_height": null,
            "padding": null,
            "grid_auto_rows": null,
            "grid_gap": null,
            "max_width": null,
            "order": null,
            "_view_module_version": "1.2.0",
            "grid_template_areas": null,
            "object_position": null,
            "object_fit": null,
            "grid_auto_columns": null,
            "margin": null,
            "display": null,
            "left": null
          }
        },
        "9ee6b673f9744e6e98455a212b43002e": {
          "model_module": "@jupyter-widgets/controls",
          "model_name": "HBoxModel",
          "state": {
            "_view_name": "HBoxView",
            "_dom_classes": [],
            "_model_name": "HBoxModel",
            "_view_module": "@jupyter-widgets/controls",
            "_model_module_version": "1.5.0",
            "_view_count": null,
            "_view_module_version": "1.5.0",
            "box_style": "",
            "layout": "IPY_MODEL_539ceac12fed4f6d869129a57af38cfd",
            "_model_module": "@jupyter-widgets/controls",
            "children": [
              "IPY_MODEL_729d536715f44081b0fee01f1dcbeabe",
              "IPY_MODEL_2b9d2aeb75274c07823abc57e0dd5e87"
            ]
          }
        },
        "539ceac12fed4f6d869129a57af38cfd": {
          "model_module": "@jupyter-widgets/base",
          "model_name": "LayoutModel",
          "state": {
            "_view_name": "LayoutView",
            "grid_template_rows": null,
            "right": null,
            "justify_content": null,
            "_view_module": "@jupyter-widgets/base",
            "overflow": null,
            "_model_module_version": "1.2.0",
            "_view_count": null,
            "flex_flow": "row wrap",
            "width": "100%",
            "min_width": null,
            "border": null,
            "align_items": null,
            "bottom": null,
            "_model_module": "@jupyter-widgets/base",
            "top": null,
            "grid_column": null,
            "overflow_y": null,
            "overflow_x": null,
            "grid_auto_flow": null,
            "grid_area": null,
            "grid_template_columns": null,
            "flex": null,
            "_model_name": "LayoutModel",
            "justify_items": null,
            "grid_row": null,
            "max_height": null,
            "align_content": null,
            "visibility": null,
            "align_self": null,
            "height": null,
            "min_height": null,
            "padding": null,
            "grid_auto_rows": null,
            "grid_gap": null,
            "max_width": null,
            "order": null,
            "_view_module_version": "1.2.0",
            "grid_template_areas": null,
            "object_position": null,
            "object_fit": null,
            "grid_auto_columns": null,
            "margin": null,
            "display": "inline-flex",
            "left": null
          }
        },
        "729d536715f44081b0fee01f1dcbeabe": {
          "model_module": "@jupyter-widgets/controls",
          "model_name": "FloatProgressModel",
          "state": {
            "_view_name": "ProgressView",
            "style": "IPY_MODEL_3e4bfde2f5104020821a49ef8c59d7e1",
            "_dom_classes": [],
            "description": "Validating: 100%",
            "_model_name": "FloatProgressModel",
            "bar_style": "info",
            "max": 1,
            "_view_module": "@jupyter-widgets/controls",
            "_model_module_version": "1.5.0",
            "value": 1,
            "_view_count": null,
            "_view_module_version": "1.5.0",
            "orientation": "horizontal",
            "min": 0,
            "description_tooltip": null,
            "_model_module": "@jupyter-widgets/controls",
            "layout": "IPY_MODEL_8532356bb01d4ed6aa14db93a4a6bb1e"
          }
        },
        "2b9d2aeb75274c07823abc57e0dd5e87": {
          "model_module": "@jupyter-widgets/controls",
          "model_name": "HTMLModel",
          "state": {
            "_view_name": "HTMLView",
            "style": "IPY_MODEL_442891668c8b4a6e8ae17a7c3d3a74a9",
            "_dom_classes": [],
            "description": "",
            "_model_name": "HTMLModel",
            "placeholder": "​",
            "_view_module": "@jupyter-widgets/controls",
            "_model_module_version": "1.5.0",
            "value": " 25/25 [00:03&lt;00:00,  6.73it/s]",
            "_view_count": null,
            "_view_module_version": "1.5.0",
            "description_tooltip": null,
            "_model_module": "@jupyter-widgets/controls",
            "layout": "IPY_MODEL_19bcb1e493824e69b329f5e814ade68a"
          }
        },
        "3e4bfde2f5104020821a49ef8c59d7e1": {
          "model_module": "@jupyter-widgets/controls",
          "model_name": "ProgressStyleModel",
          "state": {
            "_view_name": "StyleView",
            "_model_name": "ProgressStyleModel",
            "description_width": "initial",
            "_view_module": "@jupyter-widgets/base",
            "_model_module_version": "1.5.0",
            "_view_count": null,
            "_view_module_version": "1.2.0",
            "bar_color": null,
            "_model_module": "@jupyter-widgets/controls"
          }
        },
        "8532356bb01d4ed6aa14db93a4a6bb1e": {
          "model_module": "@jupyter-widgets/base",
          "model_name": "LayoutModel",
          "state": {
            "_view_name": "LayoutView",
            "grid_template_rows": null,
            "right": null,
            "justify_content": null,
            "_view_module": "@jupyter-widgets/base",
            "overflow": null,
            "_model_module_version": "1.2.0",
            "_view_count": null,
            "flex_flow": null,
            "width": null,
            "min_width": null,
            "border": null,
            "align_items": null,
            "bottom": null,
            "_model_module": "@jupyter-widgets/base",
            "top": null,
            "grid_column": null,
            "overflow_y": null,
            "overflow_x": null,
            "grid_auto_flow": null,
            "grid_area": null,
            "grid_template_columns": null,
            "flex": "2",
            "_model_name": "LayoutModel",
            "justify_items": null,
            "grid_row": null,
            "max_height": null,
            "align_content": null,
            "visibility": null,
            "align_self": null,
            "height": null,
            "min_height": null,
            "padding": null,
            "grid_auto_rows": null,
            "grid_gap": null,
            "max_width": null,
            "order": null,
            "_view_module_version": "1.2.0",
            "grid_template_areas": null,
            "object_position": null,
            "object_fit": null,
            "grid_auto_columns": null,
            "margin": null,
            "display": null,
            "left": null
          }
        },
        "442891668c8b4a6e8ae17a7c3d3a74a9": {
          "model_module": "@jupyter-widgets/controls",
          "model_name": "DescriptionStyleModel",
          "state": {
            "_view_name": "StyleView",
            "_model_name": "DescriptionStyleModel",
            "description_width": "",
            "_view_module": "@jupyter-widgets/base",
            "_model_module_version": "1.5.0",
            "_view_count": null,
            "_view_module_version": "1.2.0",
            "_model_module": "@jupyter-widgets/controls"
          }
        },
        "19bcb1e493824e69b329f5e814ade68a": {
          "model_module": "@jupyter-widgets/base",
          "model_name": "LayoutModel",
          "state": {
            "_view_name": "LayoutView",
            "grid_template_rows": null,
            "right": null,
            "justify_content": null,
            "_view_module": "@jupyter-widgets/base",
            "overflow": null,
            "_model_module_version": "1.2.0",
            "_view_count": null,
            "flex_flow": null,
            "width": null,
            "min_width": null,
            "border": null,
            "align_items": null,
            "bottom": null,
            "_model_module": "@jupyter-widgets/base",
            "top": null,
            "grid_column": null,
            "overflow_y": null,
            "overflow_x": null,
            "grid_auto_flow": null,
            "grid_area": null,
            "grid_template_columns": null,
            "flex": null,
            "_model_name": "LayoutModel",
            "justify_items": null,
            "grid_row": null,
            "max_height": null,
            "align_content": null,
            "visibility": null,
            "align_self": null,
            "height": null,
            "min_height": null,
            "padding": null,
            "grid_auto_rows": null,
            "grid_gap": null,
            "max_width": null,
            "order": null,
            "_view_module_version": "1.2.0",
            "grid_template_areas": null,
            "object_position": null,
            "object_fit": null,
            "grid_auto_columns": null,
            "margin": null,
            "display": null,
            "left": null
          }
        },
        "2a80f22e889a4303b1d204ad5f0ae555": {
          "model_module": "@jupyter-widgets/controls",
          "model_name": "HBoxModel",
          "state": {
            "_view_name": "HBoxView",
            "_dom_classes": [],
            "_model_name": "HBoxModel",
            "_view_module": "@jupyter-widgets/controls",
            "_model_module_version": "1.5.0",
            "_view_count": null,
            "_view_module_version": "1.5.0",
            "box_style": "",
            "layout": "IPY_MODEL_9734ca1293204aa79bcdd095b03ad640",
            "_model_module": "@jupyter-widgets/controls",
            "children": [
              "IPY_MODEL_c9bac4a3cb0b4ff68a2762ae871c1631",
              "IPY_MODEL_75335b5d43b04f3cbb516c4956e6d49d"
            ]
          }
        },
        "9734ca1293204aa79bcdd095b03ad640": {
          "model_module": "@jupyter-widgets/base",
          "model_name": "LayoutModel",
          "state": {
            "_view_name": "LayoutView",
            "grid_template_rows": null,
            "right": null,
            "justify_content": null,
            "_view_module": "@jupyter-widgets/base",
            "overflow": null,
            "_model_module_version": "1.2.0",
            "_view_count": null,
            "flex_flow": "row wrap",
            "width": "100%",
            "min_width": null,
            "border": null,
            "align_items": null,
            "bottom": null,
            "_model_module": "@jupyter-widgets/base",
            "top": null,
            "grid_column": null,
            "overflow_y": null,
            "overflow_x": null,
            "grid_auto_flow": null,
            "grid_area": null,
            "grid_template_columns": null,
            "flex": null,
            "_model_name": "LayoutModel",
            "justify_items": null,
            "grid_row": null,
            "max_height": null,
            "align_content": null,
            "visibility": null,
            "align_self": null,
            "height": null,
            "min_height": null,
            "padding": null,
            "grid_auto_rows": null,
            "grid_gap": null,
            "max_width": null,
            "order": null,
            "_view_module_version": "1.2.0",
            "grid_template_areas": null,
            "object_position": null,
            "object_fit": null,
            "grid_auto_columns": null,
            "margin": null,
            "display": "inline-flex",
            "left": null
          }
        },
        "c9bac4a3cb0b4ff68a2762ae871c1631": {
          "model_module": "@jupyter-widgets/controls",
          "model_name": "FloatProgressModel",
          "state": {
            "_view_name": "ProgressView",
            "style": "IPY_MODEL_3a8083902d694e6c9af2a987dd29e228",
            "_dom_classes": [],
            "description": "Validation sanity check: 100%",
            "_model_name": "FloatProgressModel",
            "bar_style": "info",
            "max": 1,
            "_view_module": "@jupyter-widgets/controls",
            "_model_module_version": "1.5.0",
            "value": 1,
            "_view_count": null,
            "_view_module_version": "1.5.0",
            "orientation": "horizontal",
            "min": 0,
            "description_tooltip": null,
            "_model_module": "@jupyter-widgets/controls",
            "layout": "IPY_MODEL_56b71fd3f5e143c0804746f9ccda4120"
          }
        },
        "75335b5d43b04f3cbb516c4956e6d49d": {
          "model_module": "@jupyter-widgets/controls",
          "model_name": "HTMLModel",
          "state": {
            "_view_name": "HTMLView",
            "style": "IPY_MODEL_618950146e9847ef81e698faf61d68b2",
            "_dom_classes": [],
            "description": "",
            "_model_name": "HTMLModel",
            "placeholder": "​",
            "_view_module": "@jupyter-widgets/controls",
            "_model_module_version": "1.5.0",
            "value": " 1/1.0 [00:00&lt;00:00,  3.06it/s]",
            "_view_count": null,
            "_view_module_version": "1.5.0",
            "description_tooltip": null,
            "_model_module": "@jupyter-widgets/controls",
            "layout": "IPY_MODEL_f3c2c688fac541409507244492187223"
          }
        },
        "3a8083902d694e6c9af2a987dd29e228": {
          "model_module": "@jupyter-widgets/controls",
          "model_name": "ProgressStyleModel",
          "state": {
            "_view_name": "StyleView",
            "_model_name": "ProgressStyleModel",
            "description_width": "initial",
            "_view_module": "@jupyter-widgets/base",
            "_model_module_version": "1.5.0",
            "_view_count": null,
            "_view_module_version": "1.2.0",
            "bar_color": null,
            "_model_module": "@jupyter-widgets/controls"
          }
        },
        "56b71fd3f5e143c0804746f9ccda4120": {
          "model_module": "@jupyter-widgets/base",
          "model_name": "LayoutModel",
          "state": {
            "_view_name": "LayoutView",
            "grid_template_rows": null,
            "right": null,
            "justify_content": null,
            "_view_module": "@jupyter-widgets/base",
            "overflow": null,
            "_model_module_version": "1.2.0",
            "_view_count": null,
            "flex_flow": null,
            "width": null,
            "min_width": null,
            "border": null,
            "align_items": null,
            "bottom": null,
            "_model_module": "@jupyter-widgets/base",
            "top": null,
            "grid_column": null,
            "overflow_y": null,
            "overflow_x": null,
            "grid_auto_flow": null,
            "grid_area": null,
            "grid_template_columns": null,
            "flex": "2",
            "_model_name": "LayoutModel",
            "justify_items": null,
            "grid_row": null,
            "max_height": null,
            "align_content": null,
            "visibility": null,
            "align_self": null,
            "height": null,
            "min_height": null,
            "padding": null,
            "grid_auto_rows": null,
            "grid_gap": null,
            "max_width": null,
            "order": null,
            "_view_module_version": "1.2.0",
            "grid_template_areas": null,
            "object_position": null,
            "object_fit": null,
            "grid_auto_columns": null,
            "margin": null,
            "display": null,
            "left": null
          }
        },
        "618950146e9847ef81e698faf61d68b2": {
          "model_module": "@jupyter-widgets/controls",
          "model_name": "DescriptionStyleModel",
          "state": {
            "_view_name": "StyleView",
            "_model_name": "DescriptionStyleModel",
            "description_width": "",
            "_view_module": "@jupyter-widgets/base",
            "_model_module_version": "1.5.0",
            "_view_count": null,
            "_view_module_version": "1.2.0",
            "_model_module": "@jupyter-widgets/controls"
          }
        },
        "f3c2c688fac541409507244492187223": {
          "model_module": "@jupyter-widgets/base",
          "model_name": "LayoutModel",
          "state": {
            "_view_name": "LayoutView",
            "grid_template_rows": null,
            "right": null,
            "justify_content": null,
            "_view_module": "@jupyter-widgets/base",
            "overflow": null,
            "_model_module_version": "1.2.0",
            "_view_count": null,
            "flex_flow": null,
            "width": null,
            "min_width": null,
            "border": null,
            "align_items": null,
            "bottom": null,
            "_model_module": "@jupyter-widgets/base",
            "top": null,
            "grid_column": null,
            "overflow_y": null,
            "overflow_x": null,
            "grid_auto_flow": null,
            "grid_area": null,
            "grid_template_columns": null,
            "flex": null,
            "_model_name": "LayoutModel",
            "justify_items": null,
            "grid_row": null,
            "max_height": null,
            "align_content": null,
            "visibility": null,
            "align_self": null,
            "height": null,
            "min_height": null,
            "padding": null,
            "grid_auto_rows": null,
            "grid_gap": null,
            "max_width": null,
            "order": null,
            "_view_module_version": "1.2.0",
            "grid_template_areas": null,
            "object_position": null,
            "object_fit": null,
            "grid_auto_columns": null,
            "margin": null,
            "display": null,
            "left": null
          }
        },
        "2c343036e13c4c7790a34a78f0651a4b": {
          "model_module": "@jupyter-widgets/controls",
          "model_name": "HBoxModel",
          "state": {
            "_view_name": "HBoxView",
            "_dom_classes": [],
            "_model_name": "HBoxModel",
            "_view_module": "@jupyter-widgets/controls",
            "_model_module_version": "1.5.0",
            "_view_count": null,
            "_view_module_version": "1.5.0",
            "box_style": "",
            "layout": "IPY_MODEL_3f1c7e094c86433ab57c8ea3501b513b",
            "_model_module": "@jupyter-widgets/controls",
            "children": [
              "IPY_MODEL_92f6e68ae9da4cbaa44cf005b52c9d91",
              "IPY_MODEL_e7af88cae05f4679a14406aa55105fe5"
            ]
          }
        },
        "3f1c7e094c86433ab57c8ea3501b513b": {
          "model_module": "@jupyter-widgets/base",
          "model_name": "LayoutModel",
          "state": {
            "_view_name": "LayoutView",
            "grid_template_rows": null,
            "right": null,
            "justify_content": null,
            "_view_module": "@jupyter-widgets/base",
            "overflow": null,
            "_model_module_version": "1.2.0",
            "_view_count": null,
            "flex_flow": "row wrap",
            "width": "100%",
            "min_width": null,
            "border": null,
            "align_items": null,
            "bottom": null,
            "_model_module": "@jupyter-widgets/base",
            "top": null,
            "grid_column": null,
            "overflow_y": null,
            "overflow_x": null,
            "grid_auto_flow": null,
            "grid_area": null,
            "grid_template_columns": null,
            "flex": null,
            "_model_name": "LayoutModel",
            "justify_items": null,
            "grid_row": null,
            "max_height": null,
            "align_content": null,
            "visibility": null,
            "align_self": null,
            "height": null,
            "min_height": null,
            "padding": null,
            "grid_auto_rows": null,
            "grid_gap": null,
            "max_width": null,
            "order": null,
            "_view_module_version": "1.2.0",
            "grid_template_areas": null,
            "object_position": null,
            "object_fit": null,
            "grid_auto_columns": null,
            "margin": null,
            "display": "inline-flex",
            "left": null
          }
        },
        "92f6e68ae9da4cbaa44cf005b52c9d91": {
          "model_module": "@jupyter-widgets/controls",
          "model_name": "FloatProgressModel",
          "state": {
            "_view_name": "ProgressView",
            "style": "IPY_MODEL_25a1fc3db4714e959f740e8d26957ab4",
            "_dom_classes": [],
            "description": "Epoch 0: 100%",
            "_model_name": "FloatProgressModel",
            "bar_style": "success",
            "max": 125,
            "_view_module": "@jupyter-widgets/controls",
            "_model_module_version": "1.5.0",
            "value": 125,
            "_view_count": null,
            "_view_module_version": "1.5.0",
            "orientation": "horizontal",
            "min": 0,
            "description_tooltip": null,
            "_model_module": "@jupyter-widgets/controls",
            "layout": "IPY_MODEL_6fe49da614f44f41b9840d4249b61e71"
          }
        },
        "e7af88cae05f4679a14406aa55105fe5": {
          "model_module": "@jupyter-widgets/controls",
          "model_name": "HTMLModel",
          "state": {
            "_view_name": "HTMLView",
            "style": "IPY_MODEL_743217d497d14b879139ac9551eaf095",
            "_dom_classes": [],
            "description": "",
            "_model_name": "HTMLModel",
            "placeholder": "​",
            "_view_module": "@jupyter-widgets/controls",
            "_model_module_version": "1.5.0",
            "value": " 125/125 [01:07&lt;00:00,  1.86it/s, loss=-0.522, v_num=0, val_loss=-.735]",
            "_view_count": null,
            "_view_module_version": "1.5.0",
            "description_tooltip": null,
            "_model_module": "@jupyter-widgets/controls",
            "layout": "IPY_MODEL_7e9bed68868c441185c8ed21f5b6267a"
          }
        },
        "25a1fc3db4714e959f740e8d26957ab4": {
          "model_module": "@jupyter-widgets/controls",
          "model_name": "ProgressStyleModel",
          "state": {
            "_view_name": "StyleView",
            "_model_name": "ProgressStyleModel",
            "description_width": "initial",
            "_view_module": "@jupyter-widgets/base",
            "_model_module_version": "1.5.0",
            "_view_count": null,
            "_view_module_version": "1.2.0",
            "bar_color": null,
            "_model_module": "@jupyter-widgets/controls"
          }
        },
        "6fe49da614f44f41b9840d4249b61e71": {
          "model_module": "@jupyter-widgets/base",
          "model_name": "LayoutModel",
          "state": {
            "_view_name": "LayoutView",
            "grid_template_rows": null,
            "right": null,
            "justify_content": null,
            "_view_module": "@jupyter-widgets/base",
            "overflow": null,
            "_model_module_version": "1.2.0",
            "_view_count": null,
            "flex_flow": null,
            "width": null,
            "min_width": null,
            "border": null,
            "align_items": null,
            "bottom": null,
            "_model_module": "@jupyter-widgets/base",
            "top": null,
            "grid_column": null,
            "overflow_y": null,
            "overflow_x": null,
            "grid_auto_flow": null,
            "grid_area": null,
            "grid_template_columns": null,
            "flex": "2",
            "_model_name": "LayoutModel",
            "justify_items": null,
            "grid_row": null,
            "max_height": null,
            "align_content": null,
            "visibility": null,
            "align_self": null,
            "height": null,
            "min_height": null,
            "padding": null,
            "grid_auto_rows": null,
            "grid_gap": null,
            "max_width": null,
            "order": null,
            "_view_module_version": "1.2.0",
            "grid_template_areas": null,
            "object_position": null,
            "object_fit": null,
            "grid_auto_columns": null,
            "margin": null,
            "display": null,
            "left": null
          }
        },
        "743217d497d14b879139ac9551eaf095": {
          "model_module": "@jupyter-widgets/controls",
          "model_name": "DescriptionStyleModel",
          "state": {
            "_view_name": "StyleView",
            "_model_name": "DescriptionStyleModel",
            "description_width": "",
            "_view_module": "@jupyter-widgets/base",
            "_model_module_version": "1.5.0",
            "_view_count": null,
            "_view_module_version": "1.2.0",
            "_model_module": "@jupyter-widgets/controls"
          }
        },
        "7e9bed68868c441185c8ed21f5b6267a": {
          "model_module": "@jupyter-widgets/base",
          "model_name": "LayoutModel",
          "state": {
            "_view_name": "LayoutView",
            "grid_template_rows": null,
            "right": null,
            "justify_content": null,
            "_view_module": "@jupyter-widgets/base",
            "overflow": null,
            "_model_module_version": "1.2.0",
            "_view_count": null,
            "flex_flow": null,
            "width": null,
            "min_width": null,
            "border": null,
            "align_items": null,
            "bottom": null,
            "_model_module": "@jupyter-widgets/base",
            "top": null,
            "grid_column": null,
            "overflow_y": null,
            "overflow_x": null,
            "grid_auto_flow": null,
            "grid_area": null,
            "grid_template_columns": null,
            "flex": null,
            "_model_name": "LayoutModel",
            "justify_items": null,
            "grid_row": null,
            "max_height": null,
            "align_content": null,
            "visibility": null,
            "align_self": null,
            "height": null,
            "min_height": null,
            "padding": null,
            "grid_auto_rows": null,
            "grid_gap": null,
            "max_width": null,
            "order": null,
            "_view_module_version": "1.2.0",
            "grid_template_areas": null,
            "object_position": null,
            "object_fit": null,
            "grid_auto_columns": null,
            "margin": null,
            "display": null,
            "left": null
          }
        },
        "590faa7dd9da4f29ab0080ed533ecc96": {
          "model_module": "@jupyter-widgets/controls",
          "model_name": "HBoxModel",
          "state": {
            "_view_name": "HBoxView",
            "_dom_classes": [],
            "_model_name": "HBoxModel",
            "_view_module": "@jupyter-widgets/controls",
            "_model_module_version": "1.5.0",
            "_view_count": null,
            "_view_module_version": "1.5.0",
            "box_style": "",
            "layout": "IPY_MODEL_5449578257864e21a2f317097a8d409a",
            "_model_module": "@jupyter-widgets/controls",
            "children": [
              "IPY_MODEL_378483e8056840aea73e49fac98e15b7",
              "IPY_MODEL_99d11b66aef1471ebe3c26f12fb9c671"
            ]
          }
        },
        "5449578257864e21a2f317097a8d409a": {
          "model_module": "@jupyter-widgets/base",
          "model_name": "LayoutModel",
          "state": {
            "_view_name": "LayoutView",
            "grid_template_rows": null,
            "right": null,
            "justify_content": null,
            "_view_module": "@jupyter-widgets/base",
            "overflow": null,
            "_model_module_version": "1.2.0",
            "_view_count": null,
            "flex_flow": "row wrap",
            "width": "100%",
            "min_width": null,
            "border": null,
            "align_items": null,
            "bottom": null,
            "_model_module": "@jupyter-widgets/base",
            "top": null,
            "grid_column": null,
            "overflow_y": null,
            "overflow_x": null,
            "grid_auto_flow": null,
            "grid_area": null,
            "grid_template_columns": null,
            "flex": null,
            "_model_name": "LayoutModel",
            "justify_items": null,
            "grid_row": null,
            "max_height": null,
            "align_content": null,
            "visibility": null,
            "align_self": null,
            "height": null,
            "min_height": null,
            "padding": null,
            "grid_auto_rows": null,
            "grid_gap": null,
            "max_width": null,
            "order": null,
            "_view_module_version": "1.2.0",
            "grid_template_areas": null,
            "object_position": null,
            "object_fit": null,
            "grid_auto_columns": null,
            "margin": null,
            "display": "inline-flex",
            "left": null
          }
        },
        "378483e8056840aea73e49fac98e15b7": {
          "model_module": "@jupyter-widgets/controls",
          "model_name": "FloatProgressModel",
          "state": {
            "_view_name": "ProgressView",
            "style": "IPY_MODEL_e8b9fdf71bde4e02954b84817928795e",
            "_dom_classes": [],
            "description": "Validating: 100%",
            "_model_name": "FloatProgressModel",
            "bar_style": "info",
            "max": 1,
            "_view_module": "@jupyter-widgets/controls",
            "_model_module_version": "1.5.0",
            "value": 1,
            "_view_count": null,
            "_view_module_version": "1.5.0",
            "orientation": "horizontal",
            "min": 0,
            "description_tooltip": null,
            "_model_module": "@jupyter-widgets/controls",
            "layout": "IPY_MODEL_b92a6989814a47dfb2d4cf5e93fbcb98"
          }
        },
        "99d11b66aef1471ebe3c26f12fb9c671": {
          "model_module": "@jupyter-widgets/controls",
          "model_name": "HTMLModel",
          "state": {
            "_view_name": "HTMLView",
            "style": "IPY_MODEL_95dd0ed3483744a4bde18e535d5e71db",
            "_dom_classes": [],
            "description": "",
            "_model_name": "HTMLModel",
            "placeholder": "​",
            "_view_module": "@jupyter-widgets/controls",
            "_model_module_version": "1.5.0",
            "value": " 25/25 [00:04&lt;00:00,  5.63it/s]",
            "_view_count": null,
            "_view_module_version": "1.5.0",
            "description_tooltip": null,
            "_model_module": "@jupyter-widgets/controls",
            "layout": "IPY_MODEL_91745301975a45bda99aa8f7c8251309"
          }
        },
        "e8b9fdf71bde4e02954b84817928795e": {
          "model_module": "@jupyter-widgets/controls",
          "model_name": "ProgressStyleModel",
          "state": {
            "_view_name": "StyleView",
            "_model_name": "ProgressStyleModel",
            "description_width": "initial",
            "_view_module": "@jupyter-widgets/base",
            "_model_module_version": "1.5.0",
            "_view_count": null,
            "_view_module_version": "1.2.0",
            "bar_color": null,
            "_model_module": "@jupyter-widgets/controls"
          }
        },
        "b92a6989814a47dfb2d4cf5e93fbcb98": {
          "model_module": "@jupyter-widgets/base",
          "model_name": "LayoutModel",
          "state": {
            "_view_name": "LayoutView",
            "grid_template_rows": null,
            "right": null,
            "justify_content": null,
            "_view_module": "@jupyter-widgets/base",
            "overflow": null,
            "_model_module_version": "1.2.0",
            "_view_count": null,
            "flex_flow": null,
            "width": null,
            "min_width": null,
            "border": null,
            "align_items": null,
            "bottom": null,
            "_model_module": "@jupyter-widgets/base",
            "top": null,
            "grid_column": null,
            "overflow_y": null,
            "overflow_x": null,
            "grid_auto_flow": null,
            "grid_area": null,
            "grid_template_columns": null,
            "flex": "2",
            "_model_name": "LayoutModel",
            "justify_items": null,
            "grid_row": null,
            "max_height": null,
            "align_content": null,
            "visibility": null,
            "align_self": null,
            "height": null,
            "min_height": null,
            "padding": null,
            "grid_auto_rows": null,
            "grid_gap": null,
            "max_width": null,
            "order": null,
            "_view_module_version": "1.2.0",
            "grid_template_areas": null,
            "object_position": null,
            "object_fit": null,
            "grid_auto_columns": null,
            "margin": null,
            "display": null,
            "left": null
          }
        },
        "95dd0ed3483744a4bde18e535d5e71db": {
          "model_module": "@jupyter-widgets/controls",
          "model_name": "DescriptionStyleModel",
          "state": {
            "_view_name": "StyleView",
            "_model_name": "DescriptionStyleModel",
            "description_width": "",
            "_view_module": "@jupyter-widgets/base",
            "_model_module_version": "1.5.0",
            "_view_count": null,
            "_view_module_version": "1.2.0",
            "_model_module": "@jupyter-widgets/controls"
          }
        },
        "91745301975a45bda99aa8f7c8251309": {
          "model_module": "@jupyter-widgets/base",
          "model_name": "LayoutModel",
          "state": {
            "_view_name": "LayoutView",
            "grid_template_rows": null,
            "right": null,
            "justify_content": null,
            "_view_module": "@jupyter-widgets/base",
            "overflow": null,
            "_model_module_version": "1.2.0",
            "_view_count": null,
            "flex_flow": null,
            "width": null,
            "min_width": null,
            "border": null,
            "align_items": null,
            "bottom": null,
            "_model_module": "@jupyter-widgets/base",
            "top": null,
            "grid_column": null,
            "overflow_y": null,
            "overflow_x": null,
            "grid_auto_flow": null,
            "grid_area": null,
            "grid_template_columns": null,
            "flex": null,
            "_model_name": "LayoutModel",
            "justify_items": null,
            "grid_row": null,
            "max_height": null,
            "align_content": null,
            "visibility": null,
            "align_self": null,
            "height": null,
            "min_height": null,
            "padding": null,
            "grid_auto_rows": null,
            "grid_gap": null,
            "max_width": null,
            "order": null,
            "_view_module_version": "1.2.0",
            "grid_template_areas": null,
            "object_position": null,
            "object_fit": null,
            "grid_auto_columns": null,
            "margin": null,
            "display": null,
            "left": null
          }
        }
      }
    }
  },
  "cells": [
    {
      "cell_type": "markdown",
      "metadata": {
        "id": "view-in-github",
        "colab_type": "text"
      },
      "source": [
        "<a href=\"https://colab.research.google.com/github/nschmidtg/thesis/blob/main/Test1_as_Notebook.ipynb\" target=\"_parent\"><img src=\"https://colab.research.google.com/assets/colab-badge.svg\" alt=\"Open In Colab\"/></a>"
      ]
    },
    {
      "cell_type": "markdown",
      "metadata": {
        "id": "ZsmS0zE-LN03"
      },
      "source": [
        "# In Google Colab: Be sure to select a GPU runtime (Runtime → Change runtime type → Hardware accelarator).\n"
      ]
    },
    {
      "cell_type": "code",
      "metadata": {
        "colab": {
          "base_uri": "https://localhost:8080/"
        },
        "id": "tEDRMjK8JbYj",
        "outputId": "094f6569-81ac-457d-84f4-2d1709f87a2a"
      },
      "source": [
        "# First off, install asteroid\n",
        "!pip install git+https://github.com/asteroid-team/asteroid --quiet"
      ],
      "execution_count": 1,
      "outputs": [
        {
          "output_type": "stream",
          "text": [
            "  Installing build dependencies ... \u001b[?25l\u001b[?25hdone\n",
            "  Getting requirements to build wheel ... \u001b[?25l\u001b[?25hdone\n",
            "    Preparing wheel metadata ... \u001b[?25l\u001b[?25hdone\n",
            "  Building wheel for asteroid (PEP 517) ... \u001b[?25l\u001b[?25hdone\n"
          ],
          "name": "stdout"
        }
      ]
    },
    {
      "cell_type": "markdown",
      "metadata": {
        "id": "8wkL1ritJupM"
      },
      "source": [
        "## After installing requirements, you need to Restart Runtime (Ctrl + M).\n",
        "Else it will fail to import asteroid"
      ]
    },
    {
      "cell_type": "code",
      "metadata": {
        "id": "Shqt22diJ7uz"
      },
      "source": [
        "!pip install pytorch-lightning --quiet"
      ],
      "execution_count": 2,
      "outputs": []
    },
    {
      "cell_type": "code",
      "metadata": {
        "id": "SNzYgySgJYfN"
      },
      "source": [
        "# Asteroid is based on PyTorch and PyTorch-Lightning.\n",
        "from torch import optim\n",
        "from pytorch_lightning import Trainer"
      ],
      "execution_count": 3,
      "outputs": []
    },
    {
      "cell_type": "code",
      "metadata": {
        "id": "58Xf7J_oJdF2"
      },
      "source": [
        "# We train the same model architecture that we used for inference above.\n",
        "from asteroid import DPRNNTasNet"
      ],
      "execution_count": 4,
      "outputs": []
    },
    {
      "cell_type": "code",
      "metadata": {
        "id": "iV58ZYnEKDr_"
      },
      "source": [
        "# In this example we use Permutation Invariant Training (PIT) and the SI-SDR loss.\n",
        "from asteroid.losses import pairwise_neg_sisdr, PITLossWrapper"
      ],
      "execution_count": 5,
      "outputs": []
    },
    {
      "cell_type": "code",
      "metadata": {
        "id": "6SgMG1MbzAu4"
      },
      "source": [
        "# install musdb:\n",
        "!pip install musdb --quiet"
      ],
      "execution_count": 6,
      "outputs": []
    },
    {
      "cell_type": "code",
      "metadata": {
        "colab": {
          "base_uri": "https://localhost:8080/"
        },
        "id": "jzMCOck0zN6b",
        "outputId": "1b989100-02b8-4689-d2f4-7e549339957c"
      },
      "source": [
        "# install ffmpeg (stems are mp4 by default)\n",
        "!sudo apt-get install ffmpeg"
      ],
      "execution_count": 7,
      "outputs": [
        {
          "output_type": "stream",
          "text": [
            "Reading package lists... Done\n",
            "Building dependency tree       \n",
            "Reading state information... Done\n",
            "ffmpeg is already the newest version (7:3.4.8-0ubuntu0.2).\n",
            "0 upgraded, 0 newly installed, 0 to remove and 15 not upgraded.\n"
          ],
          "name": "stdout"
        }
      ]
    },
    {
      "cell_type": "code",
      "metadata": {
        "id": "c3Hm8W0ZKEBh"
      },
      "source": [
        "# MiniLibriMix is a tiny version of LibriMix (https://github.com/JorisCos/LibriMix),\n",
        "# which is a free speech separation dataset.\n",
        "from asteroid.data import LibriMix\n",
        "\n",
        "# import musdb to create the mixtures: https://github.com/sigsep/sigsep-mus-db\n",
        "import musdb\n",
        "# Asteroid's System is a convenience wrapper for PyTorch-Lightning.\n",
        "from asteroid.engine import System\n",
        "\n",
        "from IPython.display import display, Audio\n"
      ],
      "execution_count": 8,
      "outputs": []
    },
    {
      "cell_type": "code",
      "metadata": {
        "id": "EXo2z1WQz3AY"
      },
      "source": [
        "# download the musdb library\n",
        "mus = musdb.DB(download=True)\n",
        "\n",
        "# To use the full dataset, set a dataset root directory\n",
        "# mus = musdb.DB(root=\"/path/to/musdb)\n",
        "\n",
        "# To work directly with wav: https://github.com/sigsep/sigsep-mus-db#using-wav-files-optional"
      ],
      "execution_count": 9,
      "outputs": []
    },
    {
      "cell_type": "code",
      "metadata": {
        "colab": {
          "base_uri": "https://localhost:8080/",
          "height": 100,
          "referenced_widgets": [
            "a037e748d7e649d3b8dbb36a1b845049",
            "a9d691f3c2f3461896edd671e1e365e7",
            "9d11bcfea34c4ac59b5d0a154a450297",
            "896c6143b2f242a7b0f93ca437d6bb6d",
            "938ba9746e88446189c443725fd2daed",
            "61385b281666452a83a34cdedb1c3677",
            "980819e472234028af91396500e37a2f",
            "2f90087b666b41af81b980794c5fab81"
          ]
        },
        "id": "Utpuj1-4KEhG",
        "outputId": "551ad5b8-061a-402f-95df-d28bc168fc3c"
      },
      "source": [
        "# This will automatically download MiniLibriMix from Zenodo on the first run.\n",
        "train_loader, val_loader = LibriMix.loaders_from_mini(task=\"sep_clean\", batch_size=8)"
      ],
      "execution_count": 11,
      "outputs": [
        {
          "output_type": "display_data",
          "data": {
            "application/vnd.jupyter.widget-view+json": {
              "model_id": "a037e748d7e649d3b8dbb36a1b845049",
              "version_minor": 0,
              "version_major": 2
            },
            "text/plain": [
              "HBox(children=(FloatProgress(value=0.0, max=640547371.0), HTML(value='')))"
            ]
          },
          "metadata": {
            "tags": []
          }
        },
        {
          "output_type": "stream",
          "text": [
            "\n",
            "Drop 0 utterances from 800 (shorter than 3 seconds)\n",
            "Drop 0 utterances from 200 (shorter than 3 seconds)\n"
          ],
          "name": "stdout"
        }
      ]
    },
    {
      "cell_type": "markdown",
      "metadata": {
        "id": "yzxgKxbJ4A31"
      },
      "source": [
        "# Create the augmented dataset\n",
        "\n",
        "using the LibriMix and the Musdb18 datasets, an augmented podcast/radioshow like dataset is created"
      ]
    },
    {
      "cell_type": "code",
      "metadata": {
        "id": "ZeRDyeMR68-c"
      },
      "source": [
        "import librosa, os"
      ],
      "execution_count": 12,
      "outputs": []
    },
    {
      "cell_type": "code",
      "metadata": {
        "id": "HwMJPSj-_US8"
      },
      "source": [
        "def create_folder_structure(path):\n",
        "    if not os.path.exists(path):\n",
        "        os.makedirs(path)\n",
        "    if not os.path.exists(path + '/linear_mono'):\n",
        "        os.makedirs(path + '/linear_mono')\n",
        "    if not os.path.exists(path + '/linear_stereo'):\n",
        "        os.makedirs(path + '/linear_stereo')\n",
        "    if not os.path.exists(path + '/sidechain_mono'):\n",
        "        os.makedirs(path + '/sidechain_mono')\n",
        "    if not os.path.exists(path + '/sidechain_stereo'):\n",
        "        os.makedirs(path + '/sidechain_stereo')\n",
        "    if not os.path.exists(path + '/track_mono'):\n",
        "        os.makedirs(path + '/track_mono')\n",
        "    if not os.path.exists(path + '/track_stereo'):\n",
        "        os.makedirs(path + '/track_stereo')\n",
        "    if not os.path.exists(path + '/speech_mono'):\n",
        "        os.makedirs(path + '/speech_mono')"
      ],
      "execution_count": 13,
      "outputs": []
    },
    {
      "cell_type": "code",
      "metadata": {
        "id": "TdtdQzEo-EI7"
      },
      "source": [
        "# create files structure\n",
        "train_path = \"augmented_dataset/train\"\n",
        "create_folder_structure(train_path)\n",
        "\n",
        "test_path = \"augmented_dataset/test\"\n",
        "create_folder_structure(test_path)\n",
        "\n",
        "if not os.path.exists('augmented_dataset/metadata'):\n",
        "    os.makedirs('augmented_dataset/metadata')"
      ],
      "execution_count": 14,
      "outputs": []
    },
    {
      "cell_type": "code",
      "metadata": {
        "id": "G4MdntL7dNyy"
      },
      "source": [
        "from os import listdir\n",
        "from os.path import isfile, join\n",
        "import random\n",
        "import numpy as np\n",
        "import re\n",
        "import csv"
      ],
      "execution_count": 20,
      "outputs": []
    },
    {
      "cell_type": "code",
      "metadata": {
        "colab": {
          "base_uri": "https://localhost:8080/"
        },
        "id": "XcVU_kXmdEsb",
        "outputId": "c0f6f95e-01ad-4d20-c77f-d5e730a9119a"
      },
      "source": [
        "speech_path = \"MiniLibriMix/val/s1/\"\n",
        "    \n",
        "speech_array = [f for f in listdir(speech_path) if isfile(join(speech_path, f))]\n",
        "\n",
        "print(speech_array)\n"
      ],
      "execution_count": 17,
      "outputs": [
        {
          "output_type": "stream",
          "text": [
            "['652-130726-0018_3536-8226-0001.wav', '6313-76958-0012_2035-147960-0001.wav', '3536-23268-0027_6295-244435-0008.wav', '3081-166546-0048_2035-152373-0018.wav', '6295-244435-0025_8297-275154-0007.wav', '1919-142785-0055_2412-153954-0015.wav', '3576-138058-0037_1462-170142-0013.wav', '1919-142785-0042_1988-148538-0002.wav', '5895-34615-0000_1988-24833-0017.wav', '2412-153954-0018_3536-23268-0004.wav', '5536-43359-0005_8842-302201-0007.wav', '2078-142845-0011_5536-43363-0010.wav', '5536-43358-0010_777-126732-0037.wav', '251-136532-0017_6295-64301-0005.wav', '5536-43363-0013_3536-8226-0021.wav', '2078-142845-0030_6241-61946-0013.wav', '1462-170138-0018_1988-24833-0012.wav', '1988-24833-0023_777-126732-0066.wav', '6241-66616-0022_6313-66129-0005.wav', '1993-147966-0001_2428-83699-0025.wav', '1988-24833-0015_3536-8226-0021.wav', '84-121123-0008_6319-57405-0000.wav', '84-121550-0019_6345-93302-0018.wav', '5338-24640-0004_6241-61943-0017.wav', '1462-170142-0009_5694-64029-0009.wav', '652-130726-0000_84-121123-0006.wav', '1988-147956-0015_84-121550-0000.wav', '3853-163249-0038_6295-64301-0020.wav', '2086-149220-0037_6313-76958-0011.wav', '652-129742-0008_6241-61946-0004.wav', '1673-143397-0003_6313-66125-0006.wav', '7976-110523-0013_1462-170138-0019.wav', '251-136532-0021_5694-64029-0030.wav', '2086-149220-0000_3536-8226-0022.wav', '2277-149897-0009_1462-170142-0033.wav', '2277-149897-0011_84-121123-0016.wav', '1462-170138-0022_3752-4943-0026.wav', '6295-64301-0018_3081-166546-0067.wav', '6313-66125-0024_2035-147960-0007.wav', '3853-163249-0037_3536-23268-0017.wav', '2428-83705-0029_7976-110124-0010.wav', '6319-275224-0010_2078-142845-0017.wav', '2277-149896-0020_3752-4943-0018.wav', '1272-128104-0006_2428-83705-0022.wav', '2035-147961-0036_2428-83705-0015.wav', '7976-105575-0011_7850-281318-0011.wav', '6345-64257-0014_2803-154320-0008.wav', '8842-302196-0004_2035-152373-0001.wav', '1993-147149-0029_2803-161169-0015.wav', '7850-286674-0007_2086-149220-0021.wav', '6241-61946-0013_2902-9008-0011.wav', '2035-147961-0007_6313-76958-0023.wav', '5694-64029-0010_1919-142785-0019.wav', '5338-284437-0027_6345-93302-0009.wav', '1988-24833-0009_6345-64257-0007.wav', '1673-143396-0015_3170-137482-0035.wav', '2035-147960-0016_6241-61946-0011.wav', '1988-147956-0012_2035-152373-0002.wav', '84-121550-0020_1462-170138-0027.wav', '2086-149220-0031_6345-93302-0018.wav', '5694-64029-0003_3576-138058-0012.wav', '652-129742-0007_174-84280-0002.wav', '1919-142785-0025_251-118436-0003.wav', '3170-137482-0016_1462-170142-0021.wav', '174-168635-0013_3081-166546-0034.wav', '5338-24615-0008_7850-286674-0010.wav', '84-121550-0010_8297-275155-0003.wav', '6345-64257-0009_6295-244435-0037.wav', '1272-141231-0006_3081-166546-0087.wav', '6345-93302-0007_777-126732-0016.wav', '1988-147956-0019_8297-275154-0002.wav', '7850-286674-0010_5536-43363-0006.wav', '1988-148538-0002_3576-138058-0015.wav', '5694-64025-0001_251-118436-0013.wav', '2086-149220-0025_7976-105575-0012.wav', '2803-154328-0017_1272-141231-0026.wav', '251-118436-0003_422-122949-0028.wav', '3853-163249-0009_2277-149897-0025.wav', '5694-64029-0004_1462-170138-0024.wav', '1919-142785-0014_3000-15664-0027.wav', '6295-244435-0004_3081-166546-0030.wav', '652-130726-0005_6313-66129-0033.wav', '6319-64726-0003_1988-24833-0011.wav', '6313-66129-0018_5895-34622-0005.wav', '84-121550-0002_3853-163249-0026.wav', '3081-166546-0055_2412-153947-0004.wav', '2412-153954-0020_6241-61943-0006.wav', '2412-153948-0012_251-118436-0015.wav', '3000-15664-0003_3536-8226-0005.wav', '3170-137482-0022_6241-61943-0018.wav', '3752-4943-0002_1462-170138-0017.wav', '251-137823-0020_3536-8226-0005.wav', '5895-34615-0021_6313-76958-0029.wav', '1462-170145-0003_2803-161169-0017.wav', '1462-170138-0006_2803-154320-0002.wav', '6313-66125-0024_6319-57405-0011.wav', '1272-135031-0015_7976-110523-0009.wav', '3853-163249-0049_2803-154328-0018.wav', '5895-34622-0022_7850-286674-0003.wav', '2428-83705-0020_1462-170138-0002.wav', '6295-64301-0028_5536-43358-0005.wav', '6295-244435-0005_3576-138058-0013.wav', '2803-154320-0003_3752-4944-0036.wav', '3536-23268-0009_251-137823-0010.wav', '5895-34615-0003_1272-135031-0011.wav', '1272-128104-0008_1919-142785-0031.wav', '6313-66125-0006_1919-142785-0002.wav', '3081-166546-0069_2078-142845-0038.wav', '5338-284437-0010_2277-149896-0005.wav', '3752-4944-0000_5694-64025-0004.wav', '422-122949-0007_2078-142845-0043.wav', '2428-83699-0010_6295-244435-0010.wav', '2277-149874-0014_3081-166546-0011.wav', '2086-149214-0000_6319-275224-0003.wav', '6345-93302-0019_1993-147149-0008.wav', '5895-34622-0020_2078-142845-0021.wav', '1462-170142-0018_3853-163249-0020.wav', '1919-142785-0012_7976-105575-0029.wav', '1673-143397-0011_174-50561-0019.wav', '2277-149897-0021_5694-64025-0002.wav', '2086-149220-0005_6295-244435-0034.wav', '2428-83705-0017_84-121550-0025.wav', '1272-141231-0003_3853-163249-0003.wav', '2412-153947-0013_777-126732-0038.wav', '3081-166546-0013_1919-142785-0034.wav', '1272-135031-0002_84-121550-0000.wav', '6241-61943-0001_2277-149897-0005.wav', '3752-4943-0010_777-126732-0024.wav', '251-136532-0002_1919-142785-0001.wav', '7850-286674-0016_84-121123-0008.wav', '652-129742-0016_6345-93306-0020.wav', '652-130726-0001_6313-66125-0021.wav', '6313-66129-0022_2078-142845-0016.wav', '8297-275155-0011_2803-161169-0011.wav', '2412-153947-0004_3752-4943-0013.wav', '6241-66616-0009_3000-15664-0005.wav', '1988-148538-0000_3536-8226-0018.wav', '6295-244435-0033_2277-149897-0029.wav', '6295-244435-0012_6345-93306-0004.wav', '3536-8226-0017_2902-9008-0001.wav', '1993-147964-0004_6345-93302-0016.wav', '6313-66125-0011_84-121550-0029.wav', '2078-142845-0036_6313-76958-0009.wav', '1462-170138-0002_3576-138058-0015.wav', '3752-4944-0054_6241-61943-0014.wav', '6295-64301-0003_3536-8226-0028.wav', '2035-147961-0032_5536-43359-0006.wav', '84-121123-0011_2035-152373-0015.wav', '1462-170145-0008_84-121123-0001.wav', '7976-105575-0027_2803-154320-0005.wav', '251-137823-0021_1462-170142-0018.wav', '1919-142785-0023_5895-34629-0017.wav', '7850-73752-0004_2035-147960-0006.wav', '422-122949-0022_1993-147149-0013.wav', '1673-143397-0013_174-168635-0009.wav', '3752-4944-0011_1993-147149-0019.wav', '8297-275154-0008_5895-34622-0017.wav', '8842-302203-0005_652-130737-0002.wav', '8842-304647-0004_6319-64726-0000.wav', '2412-153948-0012_1993-147966-0002.wav', '3576-138058-0037_2078-142845-0032.wav', '2277-149896-0015_5694-64029-0030.wav', '1462-170142-0028_2902-9008-0000.wav', '2035-147961-0032_1272-135031-0017.wav', '1673-143397-0018_652-130726-0028.wav', '422-122949-0003_3081-166546-0004.wav', '3536-8226-0008_6345-93306-0015.wav', '1988-24833-0018_1272-135031-0010.wav', '2428-83699-0019_1673-143397-0020.wav', '5694-64038-0002_6313-66129-0020.wav', '7976-110523-0007_2277-149896-0023.wav', '2277-149897-0006_6313-66125-0015.wav', '6345-64257-0004_777-126732-0002.wav', '6313-76958-0019_6295-64301-0009.wav', '7850-73752-0007_1988-148538-0003.wav', '652-130737-0013_1462-170145-0016.wav', '2803-154320-0007_6241-66616-0007.wav', '1919-142785-0032_7976-110124-0003.wav', '652-130726-0035_251-118436-0011.wav', '2035-147961-0000_1988-147956-0016.wav', '3170-137482-0004_6319-57405-0005.wav', '777-126732-0075_5338-284437-0012.wav', '1462-170142-0027_1272-128104-0011.wav', '8297-275154-0027_1919-142785-0045.wav', '2078-142845-0033_2277-149896-0000.wav', '84-121550-0033_2277-149897-0018.wav', '6295-244435-0029_1919-142785-0053.wav', '3853-163249-0005_6295-244435-0039.wav', '7850-286674-0006_6295-244435-0013.wav', '7850-286674-0000_2086-149220-0008.wav', '777-126732-0044_2902-9008-0009.wav', '3000-15664-0045_2412-153948-0005.wav', '84-121550-0026_5895-34629-0018.wav', '6295-244435-0020_6241-61943-0026.wav', '5338-284437-0016_2035-147961-0030.wav', '5895-34629-0033_1462-170138-0022.wav', '7850-73752-0009_2086-149220-0040.wav', '6241-66616-0013_2035-152373-0018.wav', '5694-64029-0027_7976-110124-0004.wav', '5338-284437-0016_5536-43363-0003.wav']\n"
          ],
          "name": "stdout"
        }
      ]
    },
    {
      "cell_type": "code",
      "metadata": {
        "id": "6WN3akPtKAuv"
      },
      "source": [
        "def mix_audio_sources(track_path, speech_path, output_path, music_to_speech_ratio = 0.2):\n",
        "    \"\"\"\n",
        "    Creates 4 mixes for the a music and a speech track and locates it in the output_path\n",
        "    the 4 mixes are: linear_mono, linear_stereo, sidechain_mono, sidechain_stereo\n",
        "    librimix is mono and musdb stereo\n",
        "    \"\"\"\n",
        "    # read the files\n",
        "    track, fs_track = librosa.load(track_path, sr=44100, mono=False)\n",
        "    speech, fs_speech = librosa.load(speech_path, sr=44100)\n",
        "    # match the length of the files\n",
        "    min_lenght = min(len(track[0]), len(speech))\n",
        "    \n",
        "    # crop the files to match in length\n",
        "    cropped_track_stereo = np.array([track[0][0:min_lenght], track[1][0:min_lenght]])\n",
        "    cropped_track_mono = cropped_track_stereo[0] + cropped_track_stereo[1]\n",
        "    cropped_speech = speech[0:min_lenght]\n",
        "    \n",
        "    linear_stereo = cropped_track_stereo * music_to_speech_ratio + cropped_speech\n",
        "    linear_mono = cropped_track_mono * music_to_speech_ratio + cropped_speech\n",
        "    \n",
        "    # write the files\n",
        "\n",
        "    \n",
        "    file_name = re.sub(\"[^0-9a-zA-Z]+\", \"-\", track_path.split('/')[-1]) + '_' + speech_path.split('/')[-1]\n",
        "    librosa.output.write_wav(output_path + \"/linear_mono/\" + file_name, linear_mono, 44100, norm=True)\n",
        "    librosa.output.write_wav(output_path + \"/linear_stereo/\" + file_name, linear_stereo, 44100, norm=True)\n",
        "    librosa.output.write_wav(output_path + \"/speech_mono/\" + file_name, cropped_speech, 44100, norm=True)\n",
        "    librosa.output.write_wav(output_path + \"/track_mono/\" + file_name, cropped_track_mono, 44100, norm=True)\n",
        "    librosa.output.write_wav(output_path + \"/track_stereo/\" + file_name, cropped_track_stereo, 44100, norm=True)\n",
        "\n",
        "    csv_path = 'augmented_dataset/metadata/mixture_train_linear_stereo.csv'\n",
        "    with open(csv_path, 'a', newline='') as file:\n",
        "        writer = csv.writer(file)\n",
        "        writer.writerow([\n",
        "                        file_name,\n",
        "                        file_name,\n",
        "                        output_path + \"/linear_stereo/\" + file_name,\n",
        "                        output_path + \"/track_stereo/\" + file_name,\n",
        "                        output_path + \"/speech_mono/\" + file_name,\n",
        "                        min_lenght\n",
        "             ])\n",
        "    \n",
        "    csv_path = 'augmented_dataset/metadata/mixture_train_linear_mono.csv'\n",
        "    with open(csv_path, 'a', newline='') as file:\n",
        "        writer = csv.writer(file)\n",
        "        writer.writerow([\n",
        "                        file_name,\n",
        "                        file_name,\n",
        "                        output_path + \"/linear_mono/\" + file_name,\n",
        "                        output_path + \"/track_mono/\" + file_name,\n",
        "                        output_path + \"/speech_mono/\" + file_name,\n",
        "                        min_lenght\n",
        "             ])\n",
        "\n",
        "    return file_name"
      ],
      "execution_count": 27,
      "outputs": []
    },
    {
      "cell_type": "code",
      "metadata": {
        "id": "ulZ_MWnwPJSg"
      },
      "source": [
        ""
      ],
      "execution_count": 27,
      "outputs": []
    },
    {
      "cell_type": "code",
      "metadata": {
        "id": "QDp7pYLrI-8f"
      },
      "source": [
        "i=0\n",
        "random.seed(1)\n",
        "csv_path = 'augmented_dataset/metadata/mixture_train_linear_stereo.csv'\n",
        "with open(csv_path, 'w', newline='') as file:\n",
        "    writer = csv.writer(file)\n",
        "    writer.writerow([\"\",\"mixture_ID\",\"mixture_path\",\"track_path\",\"speech_path\",\"length\"])\n",
        "\n",
        "csv_path = 'augmented_dataset/metadata/mixture_train_linear_mono.csv'\n",
        "with open(csv_path, 'w', newline='') as file:\n",
        "    writer = csv.writer(file)\n",
        "    writer.writerow([\"\",\"mixture_ID\",\"mixture_path\",\"track_path\",\"speech_path\",\"length\"])\n",
        "\n",
        "for track in mus:\n",
        "    \n",
        "    track_file = track.path\n",
        "    # get the speech name for the csv\n",
        "    speech_name = speech_array[random.randint(0,len(speech_array))]\n",
        "\n",
        "    \n",
        "    # path of the speech\n",
        "    speech_file = speech_path + speech_name\n",
        "    \n",
        "    # mixes = mix_audio_sources(mono_track, speech, train_path, music_to_speech_ratio= 0.01)\n",
        "    file_path = mix_audio_sources(track_file, speech_file, train_path, music_to_speech_ratio= 0.1)\n",
        "\n",
        "    if i == 1:\n",
        "      break\n",
        "    else:\n",
        "      i += 1"
      ],
      "execution_count": 28,
      "outputs": []
    },
    {
      "cell_type": "markdown",
      "metadata": {
        "id": "akl7NZws378W"
      },
      "source": [
        "# Train the network"
      ]
    },
    {
      "cell_type": "code",
      "metadata": {
        "id": "gEvFeomKKEpQ"
      },
      "source": [
        "# Tell DPRNN that we want to separate to 2 sources.\n",
        "model = DPRNNTasNet(n_src=2)"
      ],
      "execution_count": null,
      "outputs": []
    },
    {
      "cell_type": "code",
      "metadata": {
        "id": "PF0--mVEKWu1"
      },
      "source": [
        "# PITLossWrapper works with any loss function.\n",
        "loss = PITLossWrapper(pairwise_neg_sisdr, pit_from=\"pw_mtx\")\n",
        "\n",
        "optimizer = optim.Adam(model.parameters(), lr=1e-3)\n",
        "\n",
        "system = System(model, optimizer, loss, train_loader, val_loader)"
      ],
      "execution_count": null,
      "outputs": []
    },
    {
      "cell_type": "code",
      "metadata": {
        "colab": {
          "base_uri": "https://localhost:8080/",
          "height": 290,
          "referenced_widgets": [
            "1da8fc09b02f478bb08f98857c785bd0",
            "a95d1c76f8484d05b2958fecf69ee861",
            "84d3b161fc7242efade0485f762865fc",
            "5a0af97c31674c5d874e3a0c10bf7767",
            "2933ccd786734b7cb91ba9e32e451bbb",
            "bb5961edf42c470ea26d5f07240fa1e8",
            "47572039fb2b4af5b20ab8e312f1b40f",
            "d832308369eb4a45a16df020eb9d2edc",
            "d7afb2bbfacd453b8dbcae9899fa07f4",
            "a170ecc5a0134d65ae73b37f71086197",
            "dda3a5290441484e865ae7c06d73bec8",
            "238672347ba64c6d82d2290d89c59a8b",
            "fa37bf46fb6c4cb895955830b47ad04a",
            "a665e792c5b54faeb0b20f3942e4470e",
            "8d4b6dc612634766abd438516f2e959e",
            "031be6fe6d4d442eb08d95b72c3e8c3d",
            "9ee6b673f9744e6e98455a212b43002e",
            "539ceac12fed4f6d869129a57af38cfd",
            "729d536715f44081b0fee01f1dcbeabe",
            "2b9d2aeb75274c07823abc57e0dd5e87",
            "3e4bfde2f5104020821a49ef8c59d7e1",
            "8532356bb01d4ed6aa14db93a4a6bb1e",
            "442891668c8b4a6e8ae17a7c3d3a74a9",
            "19bcb1e493824e69b329f5e814ade68a"
          ]
        },
        "id": "tEzdgCR8KXzB",
        "outputId": "2df95dde-621a-48c9-b2e2-031c0c81f044"
      },
      "source": [
        "# Train for 1 epoch using a single GPU. If you're running this on Google Colab,\n",
        "# be sure to select a GPU runtime (Runtime → Change runtime type → Hardware accelarator).\n",
        "trainer = Trainer(max_epochs=1, gpus=1)\n",
        "trainer.fit(system)"
      ],
      "execution_count": null,
      "outputs": [
        {
          "output_type": "stream",
          "text": [
            "GPU available: True, used: True\n",
            "TPU available: False, using: 0 TPU cores\n",
            "CUDA_VISIBLE_DEVICES: [0]\n",
            "/usr/local/lib/python3.6/dist-packages/pytorch_lightning/utilities/distributed.py:37: UserWarning: Could not log computational graph since the `model.example_input_array` attribute is not set or `input_array` was not given\n",
            "  warnings.warn(*args, **kwargs)\n",
            "\n",
            "  | Name      | Type           | Params\n",
            "---------------------------------------------\n",
            "0 | model     | DPRNNTasNet    | 3 M   \n",
            "1 | loss_func | PITLossWrapper | 0     \n"
          ],
          "name": "stderr"
        },
        {
          "output_type": "display_data",
          "data": {
            "application/vnd.jupyter.widget-view+json": {
              "model_id": "1da8fc09b02f478bb08f98857c785bd0",
              "version_minor": 0,
              "version_major": 2
            },
            "text/plain": [
              "HBox(children=(FloatProgress(value=1.0, bar_style='info', description='Validation sanity check', layout=Layout…"
            ]
          },
          "metadata": {
            "tags": []
          }
        },
        {
          "output_type": "stream",
          "text": [
            "\r"
          ],
          "name": "stdout"
        },
        {
          "output_type": "display_data",
          "data": {
            "application/vnd.jupyter.widget-view+json": {
              "model_id": "d7afb2bbfacd453b8dbcae9899fa07f4",
              "version_minor": 0,
              "version_major": 2
            },
            "text/plain": [
              "HBox(children=(FloatProgress(value=1.0, bar_style='info', description='Training', layout=Layout(flex='2'), max…"
            ]
          },
          "metadata": {
            "tags": []
          }
        },
        {
          "output_type": "display_data",
          "data": {
            "application/vnd.jupyter.widget-view+json": {
              "model_id": "9ee6b673f9744e6e98455a212b43002e",
              "version_minor": 0,
              "version_major": 2
            },
            "text/plain": [
              "HBox(children=(FloatProgress(value=1.0, bar_style='info', description='Validating', layout=Layout(flex='2'), m…"
            ]
          },
          "metadata": {
            "tags": []
          }
        },
        {
          "output_type": "stream",
          "text": [
            "Saving latest checkpoint..\n"
          ],
          "name": "stderr"
        },
        {
          "output_type": "stream",
          "text": [
            "\n"
          ],
          "name": "stdout"
        },
        {
          "output_type": "execute_result",
          "data": {
            "text/plain": [
              "1"
            ]
          },
          "metadata": {
            "tags": []
          },
          "execution_count": 18
        }
      ]
    },
    {
      "cell_type": "code",
      "metadata": {
        "id": "odDbKPVGMIPf"
      },
      "source": [
        "!pip install librosa --quiet"
      ],
      "execution_count": null,
      "outputs": []
    },
    {
      "cell_type": "code",
      "metadata": {
        "id": "R2hWaKllMZWH"
      },
      "source": [
        "%%capture\n",
        "!wget https://www.merl.com/demos/deep-clustering/media/female-female-mixture.wav"
      ],
      "execution_count": null,
      "outputs": []
    },
    {
      "cell_type": "code",
      "metadata": {
        "colab": {
          "base_uri": "https://localhost:8080/"
        },
        "id": "sTtjlcRRLr_7",
        "outputId": "639901cf-34ca-497d-fd4a-e059f072c186"
      },
      "source": [
        "import librosa\n",
        "\n",
        "# You can pass a NumPy array:\n",
        "mixture, _ = librosa.load(\"female-female-mixture.wav\", sr=8000)\n",
        "model.separate(mixture)\n",
        "\n",
        "# Or simply a file name:\n",
        "model.separate(\"female-female-mixture.wav\")"
      ],
      "execution_count": null,
      "outputs": [
        {
          "output_type": "stream",
          "text": [
            "/usr/local/lib/python3.6/dist-packages/asteroid/separate.py:162: UserWarning: File female-female-mixture_est1.wav already exists, pass `force_overwrite=True` to overwrite it\n",
            "  UserWarning,\n"
          ],
          "name": "stderr"
        }
      ]
    },
    {
      "cell_type": "code",
      "metadata": {
        "colab": {
          "base_uri": "https://localhost:8080/",
          "height": 374
        },
        "id": "WDY2X23QMCWm",
        "outputId": "92b78208-501d-46c3-f954-75f41118165c"
      },
      "source": [
        "from IPython.display import display, Audio\n",
        "\n",
        "display(Audio(\"female-female-mixture_est1.wav\"))\n",
        "\n",
        "display(Audio(\"female-female-mixture_est2.wav\"))"
      ],
      "execution_count": null,
      "outputs": [
        {
          "output_type": "error",
          "ename": "ValueError",
          "evalue": "ignored",
          "traceback": [
            "\u001b[0;31m---------------------------------------------------------------------------\u001b[0m",
            "\u001b[0;31mValueError\u001b[0m                                Traceback (most recent call last)",
            "\u001b[0;32m<ipython-input-16-c7b62c0d8d28>\u001b[0m in \u001b[0;36m<module>\u001b[0;34m()\u001b[0m\n\u001b[1;32m      1\u001b[0m \u001b[0;32mfrom\u001b[0m \u001b[0mIPython\u001b[0m\u001b[0;34m.\u001b[0m\u001b[0mdisplay\u001b[0m \u001b[0;32mimport\u001b[0m \u001b[0mdisplay\u001b[0m\u001b[0;34m,\u001b[0m \u001b[0mAudio\u001b[0m\u001b[0;34m\u001b[0m\u001b[0;34m\u001b[0m\u001b[0m\n\u001b[1;32m      2\u001b[0m \u001b[0;34m\u001b[0m\u001b[0m\n\u001b[0;32m----> 3\u001b[0;31m \u001b[0mdisplay\u001b[0m\u001b[0;34m(\u001b[0m\u001b[0mAudio\u001b[0m\u001b[0;34m(\u001b[0m\u001b[0;34m\"female-female-mixture_est1.wav\"\u001b[0m\u001b[0;34m)\u001b[0m\u001b[0;34m)\u001b[0m\u001b[0;34m\u001b[0m\u001b[0;34m\u001b[0m\u001b[0m\n\u001b[0m\u001b[1;32m      4\u001b[0m \u001b[0;34m\u001b[0m\u001b[0m\n\u001b[1;32m      5\u001b[0m \u001b[0mdisplay\u001b[0m\u001b[0;34m(\u001b[0m\u001b[0mAudio\u001b[0m\u001b[0;34m(\u001b[0m\u001b[0;34m\"female-female-mixture_est2.wav\"\u001b[0m\u001b[0;34m)\u001b[0m\u001b[0;34m)\u001b[0m\u001b[0;34m\u001b[0m\u001b[0;34m\u001b[0m\u001b[0m\n",
            "\u001b[0;32m/usr/local/lib/python3.6/dist-packages/IPython/lib/display.py\u001b[0m in \u001b[0;36m__init__\u001b[0;34m(self, data, filename, url, embed, rate, autoplay)\u001b[0m\n\u001b[1;32m     97\u001b[0m \u001b[0;34m\u001b[0m\u001b[0m\n\u001b[1;32m     98\u001b[0m         \u001b[0;32mif\u001b[0m \u001b[0mself\u001b[0m\u001b[0;34m.\u001b[0m\u001b[0mdata\u001b[0m \u001b[0;32mis\u001b[0m \u001b[0;32mnot\u001b[0m \u001b[0;32mNone\u001b[0m \u001b[0;32mand\u001b[0m \u001b[0;32mnot\u001b[0m \u001b[0misinstance\u001b[0m\u001b[0;34m(\u001b[0m\u001b[0mself\u001b[0m\u001b[0;34m.\u001b[0m\u001b[0mdata\u001b[0m\u001b[0;34m,\u001b[0m \u001b[0mbytes\u001b[0m\u001b[0;34m)\u001b[0m\u001b[0;34m:\u001b[0m\u001b[0;34m\u001b[0m\u001b[0;34m\u001b[0m\u001b[0m\n\u001b[0;32m---> 99\u001b[0;31m             \u001b[0mself\u001b[0m\u001b[0;34m.\u001b[0m\u001b[0mdata\u001b[0m \u001b[0;34m=\u001b[0m \u001b[0mself\u001b[0m\u001b[0;34m.\u001b[0m\u001b[0m_make_wav\u001b[0m\u001b[0;34m(\u001b[0m\u001b[0mdata\u001b[0m\u001b[0;34m,\u001b[0m\u001b[0mrate\u001b[0m\u001b[0;34m)\u001b[0m\u001b[0;34m\u001b[0m\u001b[0;34m\u001b[0m\u001b[0m\n\u001b[0m\u001b[1;32m    100\u001b[0m \u001b[0;34m\u001b[0m\u001b[0m\n\u001b[1;32m    101\u001b[0m     \u001b[0;32mdef\u001b[0m \u001b[0mreload\u001b[0m\u001b[0;34m(\u001b[0m\u001b[0mself\u001b[0m\u001b[0;34m)\u001b[0m\u001b[0;34m:\u001b[0m\u001b[0;34m\u001b[0m\u001b[0;34m\u001b[0m\u001b[0m\n",
            "\u001b[0;32m/usr/local/lib/python3.6/dist-packages/IPython/lib/display.py\u001b[0m in \u001b[0;36m_make_wav\u001b[0;34m(self, data, rate)\u001b[0m\n\u001b[1;32m    121\u001b[0m             \u001b[0;32mimport\u001b[0m \u001b[0mnumpy\u001b[0m \u001b[0;32mas\u001b[0m \u001b[0mnp\u001b[0m\u001b[0;34m\u001b[0m\u001b[0;34m\u001b[0m\u001b[0m\n\u001b[1;32m    122\u001b[0m \u001b[0;34m\u001b[0m\u001b[0m\n\u001b[0;32m--> 123\u001b[0;31m             \u001b[0mdata\u001b[0m \u001b[0;34m=\u001b[0m \u001b[0mnp\u001b[0m\u001b[0;34m.\u001b[0m\u001b[0marray\u001b[0m\u001b[0;34m(\u001b[0m\u001b[0mdata\u001b[0m\u001b[0;34m,\u001b[0m \u001b[0mdtype\u001b[0m\u001b[0;34m=\u001b[0m\u001b[0mfloat\u001b[0m\u001b[0;34m)\u001b[0m\u001b[0;34m\u001b[0m\u001b[0;34m\u001b[0m\u001b[0m\n\u001b[0m\u001b[1;32m    124\u001b[0m             \u001b[0;32mif\u001b[0m \u001b[0mlen\u001b[0m\u001b[0;34m(\u001b[0m\u001b[0mdata\u001b[0m\u001b[0;34m.\u001b[0m\u001b[0mshape\u001b[0m\u001b[0;34m)\u001b[0m \u001b[0;34m==\u001b[0m \u001b[0;36m1\u001b[0m\u001b[0;34m:\u001b[0m\u001b[0;34m\u001b[0m\u001b[0;34m\u001b[0m\u001b[0m\n\u001b[1;32m    125\u001b[0m                 \u001b[0mnchan\u001b[0m \u001b[0;34m=\u001b[0m \u001b[0;36m1\u001b[0m\u001b[0;34m\u001b[0m\u001b[0;34m\u001b[0m\u001b[0m\n",
            "\u001b[0;31mValueError\u001b[0m: could not convert string to float: 'female-female-mixture_est1.wav'"
          ]
        }
      ]
    },
    {
      "cell_type": "code",
      "metadata": {
        "id": "8U5Y3ixLMn_4"
      },
      "source": [
        "s1, _ = librosa.load(\"female-female-mixture_es1.wav\", sr=8000)\n"
      ],
      "execution_count": null,
      "outputs": []
    },
    {
      "cell_type": "markdown",
      "metadata": {
        "id": "yTkxPzQfN_bv"
      },
      "source": [
        "# Try to use ConvTasNet\n"
      ]
    },
    {
      "cell_type": "code",
      "metadata": {
        "id": "Fipxuk4jODRf"
      },
      "source": [
        "from asteroid import ConvTasNet"
      ],
      "execution_count": null,
      "outputs": []
    },
    {
      "cell_type": "code",
      "metadata": {
        "id": "F7H7PFAuQl8U"
      },
      "source": [
        ""
      ],
      "execution_count": null,
      "outputs": []
    },
    {
      "cell_type": "code",
      "metadata": {
        "id": "PVMXSIxUOGuP"
      },
      "source": [
        "# Tell DPRNN that we want to separate to 2 sources.\n",
        "model = ConvTasNet(n_src=2)"
      ],
      "execution_count": null,
      "outputs": []
    },
    {
      "cell_type": "code",
      "metadata": {
        "id": "YiKLNcLpOZp0"
      },
      "source": [
        "# PITLossWrapper works with any loss function.\n",
        "loss = PITLossWrapper(pairwise_neg_sisdr, pit_from=\"pw_mtx\")\n",
        "\n",
        "optimizer = optim.Adam(model.parameters(), lr=1e-3)\n",
        "\n",
        "system = System(model, optimizer, loss, train_loader, val_loader)"
      ],
      "execution_count": null,
      "outputs": []
    },
    {
      "cell_type": "code",
      "metadata": {
        "colab": {
          "base_uri": "https://localhost:8080/",
          "height": 290,
          "referenced_widgets": [
            "2a80f22e889a4303b1d204ad5f0ae555",
            "9734ca1293204aa79bcdd095b03ad640",
            "c9bac4a3cb0b4ff68a2762ae871c1631",
            "75335b5d43b04f3cbb516c4956e6d49d",
            "3a8083902d694e6c9af2a987dd29e228",
            "56b71fd3f5e143c0804746f9ccda4120",
            "618950146e9847ef81e698faf61d68b2",
            "f3c2c688fac541409507244492187223",
            "2c343036e13c4c7790a34a78f0651a4b",
            "3f1c7e094c86433ab57c8ea3501b513b",
            "92f6e68ae9da4cbaa44cf005b52c9d91",
            "e7af88cae05f4679a14406aa55105fe5",
            "25a1fc3db4714e959f740e8d26957ab4",
            "6fe49da614f44f41b9840d4249b61e71",
            "743217d497d14b879139ac9551eaf095",
            "7e9bed68868c441185c8ed21f5b6267a",
            "590faa7dd9da4f29ab0080ed533ecc96",
            "5449578257864e21a2f317097a8d409a",
            "378483e8056840aea73e49fac98e15b7",
            "99d11b66aef1471ebe3c26f12fb9c671",
            "e8b9fdf71bde4e02954b84817928795e",
            "b92a6989814a47dfb2d4cf5e93fbcb98",
            "95dd0ed3483744a4bde18e535d5e71db",
            "91745301975a45bda99aa8f7c8251309"
          ]
        },
        "id": "aEeD5OY2O2hI",
        "outputId": "31d5eb3b-b7a3-4a3e-97ce-92407dd50f69"
      },
      "source": [
        "# Train for 1 epoch using a single GPU. If you're running this on Google Colab,\n",
        "# be sure to select a GPU runtime (Runtime → Change runtime type → Hardware accelarator).\n",
        "trainer = Trainer(max_epochs=1, gpus=1)\n",
        "trainer.fit(system)"
      ],
      "execution_count": null,
      "outputs": [
        {
          "output_type": "stream",
          "text": [
            "GPU available: True, used: True\n",
            "TPU available: False, using: 0 TPU cores\n",
            "CUDA_VISIBLE_DEVICES: [0]\n",
            "/usr/local/lib/python3.6/dist-packages/pytorch_lightning/utilities/distributed.py:37: UserWarning: Could not log computational graph since the `model.example_input_array` attribute is not set or `input_array` was not given\n",
            "  warnings.warn(*args, **kwargs)\n",
            "\n",
            "  | Name      | Type           | Params\n",
            "---------------------------------------------\n",
            "0 | model     | ConvTasNet     | 5 M   \n",
            "1 | loss_func | PITLossWrapper | 0     \n"
          ],
          "name": "stderr"
        },
        {
          "output_type": "display_data",
          "data": {
            "application/vnd.jupyter.widget-view+json": {
              "model_id": "2a80f22e889a4303b1d204ad5f0ae555",
              "version_minor": 0,
              "version_major": 2
            },
            "text/plain": [
              "HBox(children=(FloatProgress(value=1.0, bar_style='info', description='Validation sanity check', layout=Layout…"
            ]
          },
          "metadata": {
            "tags": []
          }
        },
        {
          "output_type": "stream",
          "text": [
            "\r"
          ],
          "name": "stdout"
        },
        {
          "output_type": "display_data",
          "data": {
            "application/vnd.jupyter.widget-view+json": {
              "model_id": "2c343036e13c4c7790a34a78f0651a4b",
              "version_minor": 0,
              "version_major": 2
            },
            "text/plain": [
              "HBox(children=(FloatProgress(value=1.0, bar_style='info', description='Training', layout=Layout(flex='2'), max…"
            ]
          },
          "metadata": {
            "tags": []
          }
        },
        {
          "output_type": "display_data",
          "data": {
            "application/vnd.jupyter.widget-view+json": {
              "model_id": "590faa7dd9da4f29ab0080ed533ecc96",
              "version_minor": 0,
              "version_major": 2
            },
            "text/plain": [
              "HBox(children=(FloatProgress(value=1.0, bar_style='info', description='Validating', layout=Layout(flex='2'), m…"
            ]
          },
          "metadata": {
            "tags": []
          }
        },
        {
          "output_type": "stream",
          "text": [
            "Saving latest checkpoint..\n"
          ],
          "name": "stderr"
        },
        {
          "output_type": "stream",
          "text": [
            "\n"
          ],
          "name": "stdout"
        },
        {
          "output_type": "execute_result",
          "data": {
            "text/plain": [
              "1"
            ]
          },
          "metadata": {
            "tags": []
          },
          "execution_count": 12
        }
      ]
    },
    {
      "cell_type": "code",
      "metadata": {
        "id": "5B1bikBVO67A"
      },
      "source": [
        ""
      ],
      "execution_count": null,
      "outputs": []
    },
    {
      "cell_type": "code",
      "metadata": {
        "id": "hUD8VKmz4VAU"
      },
      "source": [
        ""
      ],
      "execution_count": null,
      "outputs": []
    }
  ]
}